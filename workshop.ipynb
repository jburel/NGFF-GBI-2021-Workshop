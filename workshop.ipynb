{
 "cells": [
  {
   "cell_type": "markdown",
   "metadata": {},
   "source": [
    "# Cloud Basics\n",
    "\n",
    "There are a number of different types of cloud storage and there are a number of tools that you can use to access your cloud storage, but here we're going to focus on a single one `mc`.\n",
    "\n",
    "`mc` is provided by the minio project and is described as \"a modern alternative to UNIX commands like ls, cat, cp, mirror, diff, find etc.\" The quickstart guide can be found under https://docs.minio.io/docs/minio-client-quickstart-guide.html For our purposes we'll focus on how to use it to upload and manage data in S3.\n",
    "\n",
    "The minio project provides a safe space for you to learn about S3: https://play.minio.io:9000/minio/ You can find the access information by using the `mc` command."
   ]
  },
  {
   "cell_type": "markdown",
   "metadata": {},
   "source": [
    "## Setup"
   ]
  },
  {
   "cell_type": "code",
   "execution_count": 1,
   "metadata": {},
   "outputs": [
    {
     "name": "stdout",
     "output_type": "stream",
     "text": [
      "\u001b[m\u001b[36;1mplay\r\n",
      "\u001b[0m\u001b[33m  URL       : https://play.min.io\r\n",
      "\u001b[0m\u001b[36m  AccessKey : Q3AM3UQ867SPQQA43P2F\r\n",
      "\u001b[0m\u001b[36m  SecretKey : zuf+tfteSlswRu7BJ86wekitnifILbZam1KYY3TG\r\n",
      "\u001b[0m\u001b[34m  API       : S3v4\r\n",
      "\u001b[0m\u001b[36m  Path      : auto\r\n",
      "\u001b[0m\r\n",
      "\u001b[0m"
     ]
    }
   ],
   "source": [
    "!mc config host list play"
   ]
  },
  {
   "cell_type": "markdown",
   "metadata": {},
   "source": [
    " * \"AccessKey\" is basically a user name.\n",
    " * \"SecretKey\" is basically a password. \n",
    " * The URL is our \"endpoint\", which differentiates it from the S3 servers provided by Amazon.\n",
    "\n",
    "You can log in to the webpage and explore what the many other users have upload at https://play.minio.io:9000/minio/\n",
    "\n",
    "The other two important concepts are:\n",
    " * \"buckets\" which is roughly like a shared namespace with permissions\n",
    " * and \"keys\" which will get to in a second.\n",
    "\n",
    "For our purposes, we'll be using a single \"bucket\" `i2k2020`. Here we create it just in case it's been deleted in the background."
   ]
  },
  {
   "cell_type": "code",
   "execution_count": 2,
   "metadata": {},
   "outputs": [
    {
     "name": "stdout",
     "output_type": "stream",
     "text": [
      "\u001b[m\u001b[32;1mBucket created successfully `play/i2k2020`.\u001b[0m\r\n",
      "\u001b[0m"
     ]
    }
   ],
   "source": [
    "!mc mb --ignore-existing play/i2k2020"
   ]
  },
  {
   "cell_type": "code",
   "execution_count": 3,
   "metadata": {},
   "outputs": [
    {
     "name": "stdout",
     "output_type": "stream",
     "text": [
      "\u001b[m\u001b[32;1mAccess permission for `play/i2k2020` is set to `public`\u001b[0m\r\n",
      "\u001b[0m"
     ]
    }
   ],
   "source": [
    "!mc policy set public play/i2k2020"
   ]
  },
  {
   "cell_type": "markdown",
   "metadata": {},
   "source": [
    "We've now made our bucket public, anyone can access the files contained in it remotely.\n",
    "\n",
    "We'll start by uploading a simple file to the bucket:"
   ]
  },
  {
   "cell_type": "markdown",
   "metadata": {},
   "source": [
    "## Your first upload"
   ]
  },
  {
   "cell_type": "code",
   "execution_count": 4,
   "metadata": {},
   "outputs": [
    {
     "name": "stdout",
     "output_type": "stream",
     "text": [
      "hello.txt:     14 B / 14 B  ▓▓▓▓▓▓▓▓▓▓▓▓▓▓▓▓▓▓▓▓▓▓▓▓▓▓▓▓▓▓▓▓▓▓▓▓▓▓▓▓▓  18 B/s 0s\u001b[0m\u001b[0m\u001b[m\u001b[32;1m\u001b[m\u001b[32;1m\u001b[m\u001b[32;1m\u001b[m\u001b[32;1m\u001b[m\u001b[32;1m\u001b[m\u001b[32;1m"
     ]
    }
   ],
   "source": [
    "!mc cp hello.txt play/i2k2020/hello.txt"
   ]
  },
  {
   "cell_type": "markdown",
   "metadata": {},
   "source": [
    "Now you can see list the contents of the bucket and see that it's there. Note that since other people are working on the same bucket, it may look have more or less contents each time you run this command."
   ]
  },
  {
   "cell_type": "code",
   "execution_count": 5,
   "metadata": {},
   "outputs": [
    {
     "name": "stdout",
     "output_type": "stream",
     "text": [
      "\u001b[m\u001b[32m[2020-12-01 11:37:29 CET]\u001b[0m\u001b[33m    14B\u001b[0m\u001b[1m hello.txt\u001b[0m\r\n",
      "\u001b[0m\u001b[m\u001b[32m[2020-11-30 21:20:24 CET]\u001b[0m\u001b[33m    14B\u001b[0m\u001b[1m josh.txt\u001b[0m\r\n",
      "\u001b[0m\u001b[m\u001b[32m[2020-12-01 11:38:21 CET]\u001b[0m\u001b[33m     0B\u001b[0m\u001b[36;1m gif.zarr/\u001b[0m\r\n",
      "\u001b[0m"
     ]
    }
   ],
   "source": [
    "!mc ls play/i2k2020/"
   ]
  },
  {
   "cell_type": "markdown",
   "metadata": {},
   "source": [
    "Now visit https://play.minio.io:9000/i2k2020/hello.txt to see what you uploaded with the key of `hello.txt`. It's no longer a file. It's now in **object storage**."
   ]
  },
  {
   "cell_type": "markdown",
   "metadata": {},
   "source": [
    "## Content type (i.e. metadata)"
   ]
  },
  {
   "cell_type": "markdown",
   "metadata": {},
   "source": [
    "We can also upload HTML:"
   ]
  },
  {
   "cell_type": "code",
   "execution_count": 6,
   "metadata": {
    "scrolled": true
   },
   "outputs": [
    {
     "name": "stdout",
     "output_type": "stream",
     "text": [
      "hello.html:    46 B / 46 B  ▓▓▓▓▓▓▓▓▓▓▓▓▓▓▓▓▓▓▓▓▓▓▓▓▓▓▓▓▓▓▓▓▓▓▓▓▓▓▓▓▓  65 B/s 0s\u001b[0m\u001b[0m\u001b[m\u001b[32;1m\u001b[m\u001b[32;1m\u001b[m\u001b[32;1m\u001b[m\u001b[32;1m\u001b[m\u001b[32;1m\u001b[m\u001b[32;1m"
     ]
    }
   ],
   "source": [
    "!mc cp hello.html play/i2k2020/hello.html"
   ]
  },
  {
   "cell_type": "markdown",
   "metadata": {},
   "source": [
    "which will render under https://play.minio.io:9000/i2k2020/hello.html However, if the name doesn't match the contents, the file will be downloaded rather than opened:"
   ]
  },
  {
   "cell_type": "code",
   "execution_count": 9,
   "metadata": {
    "scrolled": true
   },
   "outputs": [
    {
     "name": "stdout",
     "output_type": "stream",
     "text": [
      "hello.json:    25 B / 25 B  ▓▓▓▓▓▓▓▓▓▓▓▓▓▓▓▓▓▓▓▓▓▓▓▓▓▓▓▓▓▓▓▓▓▓▓▓▓▓▓▓▓  34 B/s 0s\u001b[0m\u001b[0m\u001b[m\u001b[32;1m\u001b[m\u001b[32;1m\u001b[m\u001b[32;1m\u001b[m\u001b[32;1m\u001b[m\u001b[32;1m\u001b[m\u001b[32;1m"
     ]
    }
   ],
   "source": [
    "!mc cp hello.json play/i2k2020/hello.data"
   ]
  },
  {
   "cell_type": "markdown",
   "metadata": {},
   "source": [
    "it may be downloaded: https://play.minio.io:9000/i2k2020/hello.data rather than shown. To fix that, you can add a content type:"
   ]
  },
  {
   "cell_type": "code",
   "execution_count": 10,
   "metadata": {
    "scrolled": true
   },
   "outputs": [
    {
     "name": "stdout",
     "output_type": "stream",
     "text": [
      "hello.txt:     14 B / 14 B  ▓▓▓▓▓▓▓▓▓▓▓▓▓▓▓▓▓▓▓▓▓▓▓▓▓▓▓▓▓▓▓▓▓▓▓▓▓▓▓▓▓  25 B/s 0s\u001b[0m\u001b[0m\u001b[m\u001b[32;1m\u001b[m\u001b[32;1m\u001b[m\u001b[32;1m\u001b[m\u001b[32;1m\u001b[m\u001b[32;1m"
     ]
    }
   ],
   "source": [
    "!mc cp --attr=Content-Type=text/plain hello.txt play/i2k2020/hello.txt"
   ]
  },
  {
   "cell_type": "markdown",
   "metadata": {},
   "source": [
    "## Naming (i.e. keys)\n",
    "\n",
    "Another important distinction to filesystems is that though it looks like hello is in a directory, you should really think of the entire string after the bucket just as a \"key\"."
   ]
  },
  {
   "cell_type": "code",
   "execution_count": 13,
   "metadata": {
    "scrolled": true
   },
   "outputs": [
    {
     "name": "stdout",
     "output_type": "stream",
     "text": [
      "\u001b[m\u001b[32;1mRemoving `play/i2k2020/hello.txt`\u001b[0m.\r\n",
      "\u001b[0m"
     ]
    }
   ],
   "source": [
    "!mc rm play/i2k2020/hello.txt"
   ]
  },
  {
   "cell_type": "code",
   "execution_count": 14,
   "metadata": {},
   "outputs": [
    {
     "name": "stdout",
     "output_type": "stream",
     "text": [
      "hello.txt:     14 B / 14 B  ▓▓▓▓▓▓▓▓▓▓▓▓▓▓▓▓▓▓▓▓▓▓▓▓▓▓▓▓▓▓▓▓▓▓▓▓▓▓▓▓▓  25 B/s 0s\u001b[0m\u001b[0m\u001b[m\u001b[32;1m\u001b[m\u001b[32;1m\u001b[m\u001b[32;1m\u001b[m\u001b[32;1m"
     ]
    }
   ],
   "source": [
    "!mc cp hello.txt play/i2k2020/josh.txt"
   ]
  },
  {
   "cell_type": "markdown",
   "metadata": {},
   "source": [
    "![object storage comparison](https://mk0openioo80ctbhsnje.kinstacdn.com/wp-content/uploads/2019/09/oio-block-files-object-storage-compared.png)\n",
    "\n",
    "*from https://www.openio.io/blog/block-file-object-storage-evolution-computer-storage-systems*"
   ]
  },
  {
   "cell_type": "markdown",
   "metadata": {},
   "source": [
    "# Conversion Tools\n",
    "\n",
    "https://forum.image.sc/t/converting-whole-slide-images-to-ome-tiff-a-new-workflow/32110/4\n",
    "\n",
    "<img src=\"blog-2019-12-converting-whole-slide-images.jpg\" style=\"height:300px\" />\n",
    "\n"
   ]
  },
  {
   "cell_type": "markdown",
   "metadata": {},
   "source": [
    "The two basic commands are `bioformats2raw` and `raw2ometiff`. Together they provide a pipeline to scalably convert large images into OME-TIFF. The primary caveat is that they require **twice** the storage for the conversion."
   ]
  },
  {
   "cell_type": "code",
   "execution_count": 1,
   "metadata": {},
   "outputs": [
    {
     "name": "stdout",
     "output_type": "stream",
     "text": [
      "Missing required parameters: <inputPath>, <outputPath>\n",
      "Usage: \u001b[1m<main class>\u001b[21m\u001b[0m [\u001b[33m--debug\u001b[39m\u001b[0m] [\u001b[33m--version\u001b[39m\u001b[0m] [\u001b[33m--extra-readers\u001b[39m\u001b[0m[=\u001b[3m<extraReaders>\u001b[23m\u001b[0m[,\n",
      "                    \u001b[3m<extraReaders>\u001b[23m\u001b[0m...]]]...\n",
      "                    [\u001b[33m--additional-scale-format-string-args\u001b[39m\u001b[0m=\u001b[3m<additionalScaleForma\u001b[23m\u001b[0m\n",
      "\u001b[3m                    tStringArgsCsv>\u001b[23m\u001b[0m] [\u001b[33m-c\u001b[39m\u001b[0m=\u001b[3m<compressionType>\u001b[23m\u001b[0m]\n",
      "                    [\u001b[33m--compression-parameter\u001b[39m\u001b[0m=\u001b[3m<compressionParameter>\u001b[23m\u001b[0m]\n",
      "                    [\u001b[33m--dimension-order\u001b[39m\u001b[0m=\u001b[3m<dimensionOrder>\u001b[23m\u001b[0m]\n",
      "                    [\u001b[33m--file_type\u001b[39m\u001b[0m=\u001b[3m<fileType>\u001b[23m\u001b[0m] [\u001b[33m-h\u001b[39m\u001b[0m=\u001b[3m<tileHeight>\u001b[23m\u001b[0m]\n",
      "                    [\u001b[33m--max_cached_tiles\u001b[39m\u001b[0m=\u001b[3m<maxCachedTiles>\u001b[23m\u001b[0m]\n",
      "                    [\u001b[33m--max_workers\u001b[39m\u001b[0m=\u001b[3m<maxWorkers>\u001b[23m\u001b[0m]\n",
      "                    [\u001b[33m--memo-directory\u001b[39m\u001b[0m=\u001b[3m<memoDirectory>\u001b[23m\u001b[0m]\n",
      "                    [\u001b[33m--pyramid-name\u001b[39m\u001b[0m=\u001b[3m<pyramidName>\u001b[23m\u001b[0m] [\u001b[33m-r\u001b[39m\u001b[0m=\u001b[3m<pyramidResolutions>\u001b[23m\u001b[0m]\n",
      "                    [\u001b[33m--scale-format-string\u001b[39m\u001b[0m=\u001b[3m<scaleFormatString>\u001b[23m\u001b[0m]\n",
      "                    [\u001b[33m-w\u001b[39m\u001b[0m=\u001b[3m<tileWidth>\u001b[23m\u001b[0m] \u001b[33m<inputPath>\u001b[39m\u001b[0m \u001b[33m<outputPath>\u001b[39m\u001b[0m\n",
      "\u001b[33m \u001b[39m\u001b[0m     \u001b[33m<inputPath>\u001b[39m\u001b[0m    file to convert\n",
      "\u001b[33m \u001b[39m\u001b[0m     \u001b[33m<outputPath>\u001b[39m\u001b[0m   path to the output pyramid directory\n",
      "      \u001b[33m--additional-s\u001b[39m\u001b[0m\u001b[33mcale-format-string-args\u001b[39m\u001b[0m=\u001b[3m<additionalScaleFormatStringArgsCsv>\u001b[23m\u001b[0m\n",
      "                     Additional format string argument CSV file (without header\n",
      "                       row).  Arguments will be added to the end of the scale\n",
      "                       format string mapping the at the corresponding CSV row\n",
      "                       index.  It is expected that the CSV file contain exactly\n",
      "                       the same number of rows as the input file has series\n",
      "  \u001b[33m-c\u001b[39m\u001b[0m, \u001b[33m--compression\u001b[39m\u001b[0m=\u001b[3m<compressionType>\u001b[23m\u001b[0m\n",
      "                     Compression type for n5 (blosc, bzip2, gzip, lz4, raw, xz;\n",
      "                       default: blosc)\n",
      "      \u001b[33m--compression-\u001b[39m\u001b[0m\u001b[33mparameter\u001b[39m\u001b[0m=\u001b[3m<compressionParameter>\u001b[23m\u001b[0m\n",
      "                     Integer parameter for chosen compression (see https:\n",
      "                       //github.com/saalfeldlab/n5/blob/master/README.md )\n",
      "      \u001b[33m--debug\u001b[39m\u001b[0m        Turn on debug logging\n",
      "      \u001b[33m--dimension-or\u001b[39m\u001b[0m\u001b[33mder\u001b[39m\u001b[0m=\u001b[3m<dimensionOrder>\u001b[23m\u001b[0m\n",
      "                     Override the input file dimension order in the output file\n",
      "                       [Can break compatibility with raw2ometiff] (XYZCT,\n",
      "                       XYZTC, XYCTZ, XYCZT, XYTCZ, XYTZC)\n",
      "      \u001b[33m--extra-reader\u001b[39m\u001b[0m\u001b[33ms\u001b[39m\u001b[0m[=\u001b[3m<extraReaders>\u001b[23m\u001b[0m[,\u001b[3m<extraReaders>\u001b[23m\u001b[0m...]]\n",
      "                     Separate set of readers to include; (default: [class com.\n",
      "                       glencoesoftware.bioformats2raw.PyramidTiffReader, class\n",
      "                       com.glencoesoftware.bioformats2raw.MiraxReader])\n",
      "      \u001b[33m--file_type\u001b[39m\u001b[0m=\u001b[3m<f\u001b[23m\u001b[0m\u001b[3mileType>\u001b[23m\u001b[0m\n",
      "                     Tile file extension: n5, zarr (default: n5) [Can break\n",
      "                       compatibility with raw2ometiff]\n",
      "  \u001b[33m-h\u001b[39m\u001b[0m, \u001b[33m--tile_height\u001b[39m\u001b[0m=\u001b[3m<tileHeight>\u001b[23m\u001b[0m\n",
      "                     Maximum tile height to read (default: 1024)\n",
      "      \u001b[33m--max_cached_t\u001b[39m\u001b[0m\u001b[33miles\u001b[39m\u001b[0m=\u001b[3m<maxCachedTiles>\u001b[23m\u001b[0m\n",
      "                     Maximum number of tiles that will be cached across all\n",
      "                       workers (default: 64)\n",
      "      \u001b[33m--max_workers\u001b[39m\u001b[0m=\u001b[3m<maxWorkers>\u001b[23m\u001b[0m\n",
      "                     Maximum number of workers (default: 4)\n",
      "      \u001b[33m--memo-directo\u001b[39m\u001b[0m\u001b[33mry\u001b[39m\u001b[0m=\u001b[3m<memoDirectory>\u001b[23m\u001b[0m\n",
      "                     Directory used to store .bfmemo cache files\n",
      "      \u001b[33m--pyramid-name\u001b[39m\u001b[0m=\u001b[3m<pyramidName>\u001b[23m\u001b[0m\n",
      "                     Name of pyramid (default: data.n5) [Can break\n",
      "                       compatibility with raw2ometiff]\n",
      "  \u001b[33m-r\u001b[39m\u001b[0m, \u001b[33m--resolutions\u001b[39m\u001b[0m=\u001b[3m<pyramidResolutions>\u001b[23m\u001b[0m\n",
      "                     Number of pyramid resolutions to generate\n",
      "      \u001b[33m--scale-format\u001b[39m\u001b[0m\u001b[33m-string\u001b[39m\u001b[0m=\u001b[3m<scaleFormatString>\u001b[23m\u001b[0m\n",
      "                     Format string for scale paths; the first two arguments\n",
      "                       will always be series and resolution followed by any\n",
      "                       additional arguments brought in from\n",
      "                       `--additional-scale-format-string-args` [Can break\n",
      "                       compatibility with raw2ometiff] (default: %d/%d)\n",
      "  \u001b[33m-w\u001b[39m\u001b[0m, \u001b[33m--tile_width\u001b[39m\u001b[0m=\u001b[3m<\u001b[23m\u001b[0m\u001b[3mtileWidth>\u001b[23m\u001b[0m\n",
      "                     Maximum tile width to read (default: 1024)\n",
      "      \u001b[33m--version\u001b[39m\u001b[0m      Print version information and exit\n",
      "CPU times: user 12.2 ms, sys: 8.81 ms, total: 21 ms\n",
      "Wall time: 778 ms\n"
     ]
    }
   ],
   "source": [
    "%%time\n",
    "!bioformats2raw --help"
   ]
  },
  {
   "cell_type": "markdown",
   "metadata": {},
   "source": [
    "## Required OME-Zarr options\n",
    "Two of the options are currently necessary to produce OME-Zarr data:\n",
    "```\n",
    "      --file_type=<fileType>\n",
    "                     Tile file extension: n5, zarr (default: n5) [Can break\n",
    "                       compatibility with raw2ometiff]\n",
    "```\n",
    "and\n",
    "```\n",
    "     --dimension-order=<dimensionOrder>\n",
    "                     Override the input file dimension order in the output file\n",
    "                       [Can break compatibility with raw2ometiff] (XYZCT,\n",
    "                       XYZTC, XYCTZ, XYCZT, XYTCZ, XYTZC)\n",
    "```\n",
    "\n",
    "`--file_type` which produces Zarr output rather than N5 as the intermediate format. If we additionally pass the `--dimension-order` argument, then the intermediate result can be used directly by the ome-zarr library."
   ]
  },
  {
   "cell_type": "code",
   "execution_count": 2,
   "metadata": {
    "scrolled": true
   },
   "outputs": [
    {
     "name": "stdout",
     "output_type": "stream",
     "text": [
      "2020-12-01 12:25:46,540 [main] INFO  c.g.bioformats2raw.Converter - Output will be incompatible with raw2ometiff (pyramidName: data.zarr, scaleFormatString: gif.zarr/%d)\n",
      "2020-12-01 12:25:47,075 [main] INFO  loci.formats.ImageReader - GIFReader initializing i2k2020.gif\n",
      "2020-12-01 12:25:47,075 [main] INFO  loci.formats.FormatHandler - Verifying GIF format\n",
      "2020-12-01 12:25:47,075 [main] INFO  loci.formats.FormatHandler - Reading dimensions\n",
      "2020-12-01 12:25:47,075 [main] INFO  loci.formats.FormatHandler - Reading data blocks\n",
      "2020-12-01 12:25:47,082 [main] INFO  loci.formats.FormatHandler - Populating metadata\n",
      "WARNING: An illegal reflective access operation has occurred\n",
      "WARNING: Illegal reflective access by com.esotericsoftware.kryo.util.UnsafeUtil (file:/usr/local/anaconda3/envs/i2k/share/lib/kryo-2.24.0.jar) to constructor java.nio.DirectByteBuffer(long,int,java.lang.Object)\n",
      "WARNING: Please consider reporting this to the maintainers of com.esotericsoftware.kryo.util.UnsafeUtil\n",
      "WARNING: Use --illegal-access=warn to enable warnings of further illegal reflective access operations\n",
      "WARNING: All illegal access operations will be denied in a future release\n",
      "2020-12-01 12:25:47,295 [main] INFO  c.g.bioformats2raw.Converter - Using 1 pyramid resolutions\n",
      "2020-12-01 12:25:47,295 [main] INFO  c.g.bioformats2raw.Converter - Preparing to write pyramid sizeX 128 (tileWidth: 1024) sizeY 128 (tileWidth: 1024) imageCount 8\n",
      "2020-12-01 12:25:47,559 [main] WARN  c.g.bioformats2raw.Converter - Reducing active tileWidth to 128\n",
      "2020-12-01 12:25:47,559 [main] WARN  c.g.bioformats2raw.Converter - Reducing active tileHeight to 128\n",
      "2020-12-01 12:25:47,576 [pool-1-thread-1] INFO  c.g.bioformats2raw.Converter - requesting tile to write at [0, 0, 0, 0, 0] to /gif.zarr/0\n",
      "2020-12-01 12:25:47,578 [pool-1-thread-1] INFO  c.g.bioformats2raw.Converter - tile read complete 1/8\n",
      "2020-12-01 12:25:47,578 [pool-1-thread-1] INFO  org.perf4j.TimingLogger - start[1606821947576] time[1] tag[getTile]\n",
      "2020-12-01 12:25:47,580 [pool-1-thread-1] INFO  c.g.bioformats2raw.Converter - successfully wrote at [0, 0, 0, 0, 0] to /gif.zarr/0\n",
      "2020-12-01 12:25:47,580 [pool-1-thread-1] INFO  c.g.bioformats2raw.Converter - Successfully processed tile; resolution=0 plane=0 xx=0 yy=0 width=128 height=128\n",
      "2020-12-01 12:25:47,582 [pool-1-thread-1] INFO  c.g.bioformats2raw.Converter - requesting tile to write at [0, 0, 0, 0, 4] to /gif.zarr/0\n",
      "2020-12-01 12:25:47,582 [pool-1-thread-1] INFO  c.g.bioformats2raw.Converter - tile read complete 2/8\n",
      "2020-12-01 12:25:47,582 [pool-1-thread-1] INFO  org.perf4j.TimingLogger - start[1606821947582] time[0] tag[getTile]\n",
      "2020-12-01 12:25:47,583 [pool-1-thread-1] INFO  c.g.bioformats2raw.Converter - successfully wrote at [0, 0, 0, 0, 4] to /gif.zarr/0\n",
      "2020-12-01 12:25:47,583 [pool-1-thread-1] INFO  c.g.bioformats2raw.Converter - Successfully processed tile; resolution=0 plane=4 xx=0 yy=0 width=128 height=128\n",
      "2020-12-01 12:25:47,585 [pool-1-thread-1] INFO  c.g.bioformats2raw.Converter - requesting tile to write at [0, 0, 0, 0, 5] to /gif.zarr/0\n",
      "2020-12-01 12:25:47,585 [pool-1-thread-1] INFO  c.g.bioformats2raw.Converter - tile read complete 3/8\n",
      "2020-12-01 12:25:47,585 [pool-1-thread-1] INFO  org.perf4j.TimingLogger - start[1606821947585] time[0] tag[getTile]\n",
      "2020-12-01 12:25:47,586 [pool-1-thread-1] INFO  c.g.bioformats2raw.Converter - successfully wrote at [0, 0, 0, 0, 5] to /gif.zarr/0\n",
      "2020-12-01 12:25:47,586 [pool-1-thread-1] INFO  c.g.bioformats2raw.Converter - Successfully processed tile; resolution=0 plane=5 xx=0 yy=0 width=128 height=128\n",
      "2020-12-01 12:25:47,588 [pool-1-thread-1] INFO  c.g.bioformats2raw.Converter - requesting tile to write at [0, 0, 0, 0, 6] to /gif.zarr/0\n",
      "2020-12-01 12:25:47,588 [pool-1-thread-1] INFO  c.g.bioformats2raw.Converter - tile read complete 4/8\n",
      "2020-12-01 12:25:47,588 [pool-1-thread-1] INFO  org.perf4j.TimingLogger - start[1606821947588] time[0] tag[getTile]\n",
      "2020-12-01 12:25:47,589 [pool-1-thread-1] INFO  c.g.bioformats2raw.Converter - successfully wrote at [0, 0, 0, 0, 6] to /gif.zarr/0\n",
      "2020-12-01 12:25:47,589 [pool-1-thread-1] INFO  c.g.bioformats2raw.Converter - Successfully processed tile; resolution=0 plane=6 xx=0 yy=0 width=128 height=128\n",
      "2020-12-01 12:25:47,590 [pool-1-thread-1] INFO  c.g.bioformats2raw.Converter - requesting tile to write at [0, 0, 0, 0, 7] to /gif.zarr/0\n",
      "2020-12-01 12:25:47,590 [pool-1-thread-1] INFO  c.g.bioformats2raw.Converter - tile read complete 5/8\n",
      "2020-12-01 12:25:47,591 [pool-1-thread-1] INFO  org.perf4j.TimingLogger - start[1606821947590] time[0] tag[getTile]\n",
      "2020-12-01 12:25:47,591 [pool-1-thread-1] INFO  c.g.bioformats2raw.Converter - successfully wrote at [0, 0, 0, 0, 7] to /gif.zarr/0\n",
      "2020-12-01 12:25:47,591 [pool-1-thread-1] INFO  c.g.bioformats2raw.Converter - Successfully processed tile; resolution=0 plane=7 xx=0 yy=0 width=128 height=128\n",
      "2020-12-01 12:25:47,674 [pool-1-thread-4] INFO  c.g.bioformats2raw.Converter - requesting tile to write at [0, 0, 0, 0, 3] to /gif.zarr/0\n",
      "2020-12-01 12:25:47,674 [pool-1-thread-4] INFO  c.g.bioformats2raw.Converter - tile read complete 6/8\n",
      "2020-12-01 12:25:47,674 [pool-1-thread-4] INFO  org.perf4j.TimingLogger - start[1606821947673] time[1] tag[getTile]\n",
      "2020-12-01 12:25:47,676 [pool-1-thread-4] INFO  c.g.bioformats2raw.Converter - successfully wrote at [0, 0, 0, 0, 3] to /gif.zarr/0\n",
      "2020-12-01 12:25:47,676 [pool-1-thread-4] INFO  c.g.bioformats2raw.Converter - Successfully processed tile; resolution=0 plane=3 xx=0 yy=0 width=128 height=128\n",
      "2020-12-01 12:25:47,776 [pool-1-thread-2] INFO  c.g.bioformats2raw.Converter - requesting tile to write at [0, 0, 0, 0, 1] to /gif.zarr/0\n",
      "2020-12-01 12:25:47,776 [pool-1-thread-2] INFO  c.g.bioformats2raw.Converter - tile read complete 7/8\n",
      "2020-12-01 12:25:47,776 [pool-1-thread-2] INFO  org.perf4j.TimingLogger - start[1606821947776] time[0] tag[getTile]\n",
      "2020-12-01 12:25:47,777 [pool-1-thread-2] INFO  c.g.bioformats2raw.Converter - successfully wrote at [0, 0, 0, 0, 1] to /gif.zarr/0\n",
      "2020-12-01 12:25:47,777 [pool-1-thread-2] INFO  c.g.bioformats2raw.Converter - Successfully processed tile; resolution=0 plane=1 xx=0 yy=0 width=128 height=128\n",
      "2020-12-01 12:25:47,879 [pool-1-thread-3] INFO  c.g.bioformats2raw.Converter - requesting tile to write at [0, 0, 0, 0, 2] to /gif.zarr/0\n",
      "2020-12-01 12:25:47,880 [pool-1-thread-3] INFO  c.g.bioformats2raw.Converter - tile read complete 8/8\n",
      "2020-12-01 12:25:47,880 [pool-1-thread-3] INFO  org.perf4j.TimingLogger - start[1606821947879] time[0] tag[getTile]\n",
      "2020-12-01 12:25:47,881 [pool-1-thread-3] INFO  c.g.bioformats2raw.Converter - successfully wrote at [0, 0, 0, 0, 2] to /gif.zarr/0\n",
      "2020-12-01 12:25:47,881 [pool-1-thread-3] INFO  c.g.bioformats2raw.Converter - Successfully processed tile; resolution=0 plane=2 xx=0 yy=0 width=128 height=128\n",
      "CPU times: user 32.5 ms, sys: 14.6 ms, total: 47.2 ms\n",
      "Wall time: 2.01 s\n"
     ]
    }
   ],
   "source": [
    "%%time\n",
    "!bioformats2raw i2k2020.gif $PWD --file_type=zarr --dimension-order=XYZCT --scale-format-string=gif.zarr/%d"
   ]
  },
  {
   "cell_type": "code",
   "execution_count": 3,
   "metadata": {
    "scrolled": true
   },
   "outputs": [
    {
     "name": "stdout",
     "output_type": "stream",
     "text": [
      "METADATA.ome.xml\r\n",
      "\r\n",
      "data.zarr:\r\n",
      "\u001b[1m\u001b[36mgif.zarr\u001b[m\u001b[m\r\n"
     ]
    }
   ],
   "source": [
    "!ls *.ome.xml data.zarr"
   ]
  },
  {
   "cell_type": "markdown",
   "metadata": {},
   "source": [
    "## Moving to the cloud\n",
    "\n",
    "You can then move the generated output to S3"
   ]
  },
  {
   "cell_type": "code",
   "execution_count": 4,
   "metadata": {
    "scrolled": true
   },
   "outputs": [
    {
     "name": "stdout",
     "output_type": "stream",
     "text": [
      "...5.0.0.0.0:  4.19 KiB / 4.19 KiB  ▓▓▓▓▓▓▓▓▓▓▓▓▓▓▓▓▓▓▓▓▓▓▓▓▓▓▓▓▓  5.10 KiB/s 0s\u001b[0m\u001b[0m\u001b[m\u001b[32;1m\u001b[m\u001b[32;1m\u001b[m\u001b[32;1m\u001b[m\u001b[32;1m\u001b[m\u001b[32;1m\u001b[m\u001b[32;1m\u001b[m\u001b[32;1m"
     ]
    }
   ],
   "source": [
    "!mc cp --recursive data.zarr/gif.zarr/ play/i2k2020/gif.zarr/"
   ]
  },
  {
   "cell_type": "markdown",
   "metadata": {},
   "source": [
    "You can see your image under http://hms-dbmi.github.io/vizarr?source=https://play.minio.io:9000/i2k2020/gif.zarr"
   ]
  },
  {
   "cell_type": "code",
   "execution_count": 5,
   "metadata": {},
   "outputs": [
    {
     "name": "stdout",
     "output_type": "stream",
     "text": [
      "{\"multiscales\":[{\"datasets\":[{\"path\":\"0\"}],\"version\":\"0.1\"}]}"
     ]
    }
   ],
   "source": [
    "!mc cat play/i2k2020/gif.zarr/.zattrs"
   ]
  },
  {
   "cell_type": "markdown",
   "metadata": {
    "collapsed": true
   },
   "source": [
    "### License\n",
    "Copyright (C) 2019-2020 University of Dundee. All Rights Reserved.\n",
    "This program is free software; you can redistribute it and/or modify it\n",
    "under the terms of the GNU General Public License as published by the\n",
    "Free Software Foundation; either version 2 of the License, or\n",
    "(at your option) any later version.\n",
    "This program is distributed in the hope that it will be useful, but\n",
    "WITHOUT ANY WARRANTY; without even the implied warranty of MERCHANTABILITY\n",
    "or FITNESS FOR A PARTICULAR PURPOSE. See the GNU General Public License for\n",
    "more details. You should have received a copy of the GNU General\n",
    "Public License along with this program; if not, write to the\n",
    "Free Software Foundation,\n",
    "Inc., 51 Franklin Street, Fifth Floor, Boston, MA 02110-1301 USA."
   ]
  }
 ],
 "metadata": {
  "anaconda-cloud": {},
  "kernelspec": {
   "display_name": "Python 3",
   "language": "python",
   "name": "python3"
  },
  "language_info": {
   "codemirror_mode": {
    "name": "ipython",
    "version": 3
   },
   "file_extension": ".py",
   "mimetype": "text/x-python",
   "name": "python",
   "nbconvert_exporter": "python",
   "pygments_lexer": "ipython3",
   "version": "3.7.6"
  },
  "toc": {
   "base_numbering": 1,
   "nav_menu": {},
   "number_sections": false,
   "sideBar": false,
   "skip_h1_title": false,
   "title_cell": "Table of Contents",
   "title_sidebar": "Contents",
   "toc_cell": false,
   "toc_position": {},
   "toc_section_display": false,
   "toc_window_display": false
  }
 },
 "nbformat": 4,
 "nbformat_minor": 4
}
