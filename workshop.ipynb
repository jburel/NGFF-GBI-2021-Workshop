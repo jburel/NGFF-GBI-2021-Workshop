{
 "cells": [
  {
   "cell_type": "markdown",
   "metadata": {
    "slideshow": {
     "slide_type": "slide"
    }
   },
   "source": [
    "# Accessing cloud-hosted image data (practical)\n",
    "\n",
    "\n",
    "<p><b>Image Data:</b><br/>\n",
    "   data management, standard image file format<br/>\n",
    "    for sharing big image data in the cloud, and image data repositories</p>\n",
    "<p><i>\n",
    "Day 3: Friday, 29 January 2021 – Standard image file format for sharing big image data in the cloud\n",
    "</i></p>\n",
    "\n",
    "\n",
    "\n",
    "## Outline\n",
    "1. Notebook reminders\n",
    "2. Choosing our data & downloading from S3\n",
    "3. Converting your data to OME-NGFF\n",
    "4. Publishing your data with S3\n",
    "\n",
    "***\n",
    "\n",
    "## 1. Notebook reminders\n",
    "This notebook is somewhat unusual in that we use a lot of command-line tools. Each of the lines beginning with a exclamatino mark (`!`) is run in a terminal. You can perform those actions on your own system _without_ a Jupyter notebook. For that, you will need to install the correct tools like `bioformats2raw` or run everything via `repo2docker`. See instructions under https://github.com/joshmoore/NGFF-GBI-2021-Workshop/blob/main/README.md\n"
   ]
  },
  {
   "cell_type": "code",
   "execution_count": null,
   "metadata": {
    "scrolled": false
   },
   "outputs": [],
   "source": [
    "!conda info --envs"
   ]
  },
  {
   "cell_type": "code",
   "execution_count": null,
   "metadata": {},
   "outputs": [],
   "source": [
    "!cat binder/environment.yml"
   ]
  },
  {
   "cell_type": "code",
   "execution_count": null,
   "metadata": {},
   "outputs": [],
   "source": [
    "!pwd"
   ]
  },
  {
   "cell_type": "markdown",
   "metadata": {
    "slideshow": {
     "slide_type": "slide"
    }
   },
   "source": [
    "## 2. Data from S3\n",
    "We're going to start off by looking at some images you will likely have seen during the OMERO or IDR sessions:\n",
    "\n",
    "<table>\n",
    "    <tr>\n",
    "        <td>\n",
    "            <img alt=\"idr0062 thumbnails\" src=\"images/training-1.png\" style=\"height:150px\"/>\n",
    "        </td>\n",
    "        <td>\n",
    "            <img alt=\"idr0062 thumbnails\" src=\"images/training-2.png\" style=\"height:150px\"/>\n",
    "        </td>\n",
    "    </tr>\n",
    "</table>\n",
    "    \n",
    "These images were using in the ilastik plugin guide presented by Petr: https://omero-guides.readthedocs.io/en/latest/ilastik/docs/ilastik_fiji.html\n",
    "\n",
    "\n",
    "The original dataset can be found in IDR study idr0062: https://workshop.openmicroscopy.org/webclient/?show=dataset-6179\n",
    "\n",
    "Our goal is to share these *without* using an OMERO.\n"
   ]
  },
  {
   "cell_type": "markdown",
   "metadata": {
    "slideshow": {
     "slide_type": "slide"
    }
   },
   "source": [
    "## 2.1 Minio client\n",
    "\n",
    "There are a number of different types of cloud storage and there are a number of tools that you can use to access your cloud storage, but here we're going to focus on a single one `mc`.\n",
    "\n",
    "`mc` is provided by the minio project and is described as \"a modern alternative to UNIX commands like ls, cat, cp, mirror, diff, find etc.\" The quickstart guide can be found under https://docs.minio.io/docs/minio-client-quickstart-guide.html For our purposes we'll focus on how to use it to upload and manage data in S3."
   ]
  },
  {
   "cell_type": "markdown",
   "metadata": {},
   "source": [
    "## 2.2 Connecting\n",
    "\n",
    "The minio project provides a safe space for you to learn about S3: https://play.minio.io:9000/minio/ Here we've used the `mc` command to find the access information:\n",
    "\n",
    " * \"AccessKey\" is basically a user name.\n",
    " * \"SecretKey\" is basically a password. \n",
    " * The URL is our \"endpoint\", which differentiates it from the S3 servers provided by Amazon.\n",
    "\n",
    "You can log in to the webpage and explore what the many other users have upload at https://play.minio.io:9000/minio/\n",
    "\n",
    "The other two important concepts are:\n",
    " * \"buckets\" which is roughly like a shared namespace with permissions\n",
    " * and \"keys\" which will get to in a second."
   ]
  },
  {
   "cell_type": "code",
   "execution_count": 3,
   "metadata": {},
   "outputs": [
    {
     "name": "stdout",
     "output_type": "stream",
     "text": [
      "\u001b[m\u001b[36;1mplay\r\n",
      "\u001b[0m\u001b[33m  URL       : https://play.min.io\r\n",
      "\u001b[0m\u001b[36m  AccessKey : Q3AM3UQ867SPQQA43P2F\r\n",
      "\u001b[0m\u001b[36m  SecretKey : zuf+tfteSlswRu7BJ86wekitnifILbZam1KYY3TG\r\n",
      "\u001b[0m\u001b[34m  API       : S3v4\r\n",
      "\u001b[0m\u001b[36m  Path      : auto\r\n",
      "\u001b[0m\r\n",
      "\u001b[0m"
     ]
    }
   ],
   "source": [
    "!mc config host list play"
   ]
  },
  {
   "cell_type": "markdown",
   "metadata": {},
   "source": [
    "But EMBL has kindly provided us a bucket for this session which we need to connect to:"
   ]
  },
  {
   "cell_type": "code",
   "execution_count": 16,
   "metadata": {},
   "outputs": [
    {
     "name": "stdout",
     "output_type": "stream",
     "text": [
      "\u001b[31;3;1mmc: <ERROR> \u001b[0m\u001b[31;3;1mUnable to initialize new alias from the provided credentials. The request signature we calculated does not match the signature you provided. Check your key and signing method.\r\n",
      "\u001b[0m"
     ]
    }
   ],
   "source": [
    "!mc config host add gbi https://s3.embl.de bioim-user PLEASE_FIX_ME"
   ]
  },
  {
   "cell_type": "code",
   "execution_count": 5,
   "metadata": {},
   "outputs": [
    {
     "name": "stdout",
     "output_type": "stream",
     "text": [
      "\u001b[m\u001b[32m[2021-01-12 11:43:25 CET]\u001b[0m\u001b[33m    13B\u001b[0m\u001b[1m README.md\u001b[0m\r\n",
      "\u001b[0m\u001b[m\u001b[32m[2021-01-21 18:26:48 CET]\u001b[0m\u001b[33m  32KiB\u001b[0m\u001b[1m s3-browser.html\u001b[0m\r\n",
      "\u001b[0m\u001b[m\u001b[32m[2021-01-25 16:36:45 CET]\u001b[0m\u001b[33m     0B\u001b[0m\u001b[36;1m idr0062-tiffs/\u001b[0m\r\n",
      "\u001b[0m\u001b[m\u001b[32m[2021-01-25 16:36:45 CET]\u001b[0m\u001b[33m     0B\u001b[0m\u001b[36;1m idr0062-zarrs/\u001b[0m\r\n",
      "\u001b[0m"
     ]
    }
   ],
   "source": [
    "!mc ls gbi/bioim"
   ]
  },
  {
   "cell_type": "code",
   "execution_count": 7,
   "metadata": {},
   "outputs": [
    {
     "name": "stdout",
     "output_type": "stream",
     "text": [
      "\u001b[m\u001b[32m[2021-01-21 18:07:25 CET]\u001b[0m\u001b[33m  68MiB\u001b[0m\u001b[1m B1_C1.tif\u001b[0m\r\n",
      "\u001b[0m\u001b[m\u001b[32m[2021-01-21 18:07:25 CET]\u001b[0m\u001b[33m  67MiB\u001b[0m\u001b[1m B1_C1_Manual.tif\u001b[0m\r\n",
      "\u001b[0m\u001b[m\u001b[32m[2021-01-21 18:07:25 CET]\u001b[0m\u001b[33m  66MiB\u001b[0m\u001b[1m B1_C2.tif\u001b[0m\r\n",
      "\u001b[0m\u001b[m\u001b[32m[2021-01-21 18:07:25 CET]\u001b[0m\u001b[33m  66MiB\u001b[0m\u001b[1m B1_C2_Manual.tif\u001b[0m\r\n",
      "\u001b[0m\u001b[m\u001b[32m[2021-01-21 18:07:25 CET]\u001b[0m\u001b[33m 120MiB\u001b[0m\u001b[1m B2_C1.tif\u001b[0m\r\n",
      "\u001b[0m\u001b[m\u001b[32m[2021-01-21 18:07:25 CET]\u001b[0m\u001b[33m 120MiB\u001b[0m\u001b[1m B2_C1_Manual.tif\u001b[0m\r\n",
      "\u001b[0m\u001b[m\u001b[32m[2021-01-21 18:07:25 CET]\u001b[0m\u001b[33m  42MiB\u001b[0m\u001b[1m B2_C2.tif\u001b[0m\r\n",
      "\u001b[0m\u001b[m\u001b[32m[2021-01-21 18:07:25 CET]\u001b[0m\u001b[33m  42MiB\u001b[0m\u001b[1m B2_C2_Manual.tif\u001b[0m\r\n",
      "\u001b[0m\u001b[m\u001b[32m[2021-01-21 18:07:29 CET]\u001b[0m\u001b[33m  84MiB\u001b[0m\u001b[1m B3.tif\u001b[0m\r\n",
      "\u001b[0m\u001b[m\u001b[32m[2021-01-21 18:07:29 CET]\u001b[0m\u001b[33m  83MiB\u001b[0m\u001b[1m B3_Manual.tif\u001b[0m\r\n",
      "\u001b[0m\u001b[m\u001b[32m[2021-01-21 18:07:29 CET]\u001b[0m\u001b[33m  49MiB\u001b[0m\u001b[1m B4_C1.tif\u001b[0m\r\n",
      "\u001b[0m\u001b[m\u001b[32m[2021-01-21 18:07:29 CET]\u001b[0m\u001b[33m  49MiB\u001b[0m\u001b[1m B4_C1_Manual.tif\u001b[0m\r\n",
      "\u001b[0m\u001b[m\u001b[32m[2021-01-21 18:07:29 CET]\u001b[0m\u001b[33m  79MiB\u001b[0m\u001b[1m B4_C2.tif\u001b[0m\r\n",
      "\u001b[0m\u001b[m\u001b[32m[2021-01-21 18:07:29 CET]\u001b[0m\u001b[33m  78MiB\u001b[0m\u001b[1m B4_C2_Manual.tif\u001b[0m\r\n",
      "\u001b[0m\u001b[m\u001b[32m[2021-01-21 18:07:29 CET]\u001b[0m\u001b[33m  53MiB\u001b[0m\u001b[1m B4_C3.tif\u001b[0m\r\n",
      "\u001b[0m\u001b[m\u001b[32m[2021-01-21 18:07:29 CET]\u001b[0m\u001b[33m  52MiB\u001b[0m\u001b[1m B4_C3_Manual.tif\u001b[0m\r\n",
      "\u001b[0m\u001b[m\u001b[32m[2021-01-21 18:07:30 CET]\u001b[0m\u001b[33m  47MiB\u001b[0m\u001b[1m B5_C1.tif\u001b[0m\r\n",
      "\u001b[0m\u001b[m\u001b[32m[2021-01-21 18:07:30 CET]\u001b[0m\u001b[33m  47MiB\u001b[0m\u001b[1m B5_C1_Manual.tif\u001b[0m\r\n",
      "\u001b[0m\u001b[m\u001b[32m[2021-01-21 18:07:31 CET]\u001b[0m\u001b[33m  44MiB\u001b[0m\u001b[1m B5_C2.tif\u001b[0m\r\n",
      "\u001b[0m\u001b[m\u001b[32m[2021-01-21 18:07:30 CET]\u001b[0m\u001b[33m  44MiB\u001b[0m\u001b[1m B5_C2_Manual.tif\u001b[0m\r\n",
      "\u001b[0m\u001b[m\u001b[32m[2021-01-21 18:07:33 CET]\u001b[0m\u001b[33m  44MiB\u001b[0m\u001b[1m B5_C3.tif\u001b[0m\r\n",
      "\u001b[0m\u001b[m\u001b[32m[2021-01-21 18:07:33 CET]\u001b[0m\u001b[33m  44MiB\u001b[0m\u001b[1m B5_C3_Manual.tif\u001b[0m\r\n",
      "\u001b[0m"
     ]
    }
   ],
   "source": [
    "!mc ls gbi/bioim/idr0062-tiffs/"
   ]
  },
  {
   "cell_type": "code",
   "execution_count": 8,
   "metadata": {},
   "outputs": [
    {
     "name": "stdout",
     "output_type": "stream",
     "text": [
      "\u001b[m\u001b[32m[2021-01-25 16:38:24 CET]\u001b[0m\u001b[33m     0B\u001b[0m\u001b[36;1m 6001237.zarr/\u001b[0m\r\n",
      "\u001b[0m\u001b[m\u001b[32m[2021-01-25 16:38:24 CET]\u001b[0m\u001b[33m     0B\u001b[0m\u001b[36;1m 6001238.zarr/\u001b[0m\r\n",
      "\u001b[0m\u001b[m\u001b[32m[2021-01-25 16:38:24 CET]\u001b[0m\u001b[33m     0B\u001b[0m\u001b[36;1m 6001239.zarr/\u001b[0m\r\n",
      "\u001b[0m\u001b[m\u001b[32m[2021-01-25 16:38:24 CET]\u001b[0m\u001b[33m     0B\u001b[0m\u001b[36;1m 6001240.zarr/\u001b[0m\r\n",
      "\u001b[0m\u001b[m\u001b[32m[2021-01-25 16:38:24 CET]\u001b[0m\u001b[33m     0B\u001b[0m\u001b[36;1m 6001241.zarr/\u001b[0m\r\n",
      "\u001b[0m\u001b[m\u001b[32m[2021-01-25 16:38:24 CET]\u001b[0m\u001b[33m     0B\u001b[0m\u001b[36;1m 6001242.zarr/\u001b[0m\r\n",
      "\u001b[0m\u001b[m\u001b[32m[2021-01-25 16:38:24 CET]\u001b[0m\u001b[33m     0B\u001b[0m\u001b[36;1m 6001243.zarr/\u001b[0m\r\n",
      "\u001b[0m\u001b[m\u001b[32m[2021-01-25 16:38:24 CET]\u001b[0m\u001b[33m     0B\u001b[0m\u001b[36;1m 6001244.zarr/\u001b[0m\r\n",
      "\u001b[0m\u001b[m\u001b[32m[2021-01-25 16:38:24 CET]\u001b[0m\u001b[33m     0B\u001b[0m\u001b[36;1m 6001245.zarr/\u001b[0m\r\n",
      "\u001b[0m\u001b[m\u001b[32m[2021-01-25 16:38:24 CET]\u001b[0m\u001b[33m     0B\u001b[0m\u001b[36;1m 6001246.zarr/\u001b[0m\r\n",
      "\u001b[0m\u001b[m\u001b[32m[2021-01-25 16:38:24 CET]\u001b[0m\u001b[33m     0B\u001b[0m\u001b[36;1m 6001247.zarr/\u001b[0m\r\n",
      "\u001b[0m\u001b[m\u001b[32m[2021-01-25 16:38:24 CET]\u001b[0m\u001b[33m     0B\u001b[0m\u001b[36;1m 6001248.zarr/\u001b[0m\r\n",
      "\u001b[0m\u001b[m\u001b[32m[2021-01-25 16:38:24 CET]\u001b[0m\u001b[33m     0B\u001b[0m\u001b[36;1m 6001249.zarr/\u001b[0m\r\n",
      "\u001b[0m\u001b[m\u001b[32m[2021-01-25 16:38:24 CET]\u001b[0m\u001b[33m     0B\u001b[0m\u001b[36;1m 6001250.zarr/\u001b[0m\r\n",
      "\u001b[0m\u001b[m\u001b[32m[2021-01-25 16:38:24 CET]\u001b[0m\u001b[33m     0B\u001b[0m\u001b[36;1m 6001251.zarr/\u001b[0m\r\n",
      "\u001b[0m\u001b[m\u001b[32m[2021-01-25 16:38:24 CET]\u001b[0m\u001b[33m     0B\u001b[0m\u001b[36;1m 6001252.zarr/\u001b[0m\r\n",
      "\u001b[0m\u001b[m\u001b[32m[2021-01-25 16:38:24 CET]\u001b[0m\u001b[33m     0B\u001b[0m\u001b[36;1m 6001253.zarr/\u001b[0m\r\n",
      "\u001b[0m\u001b[m\u001b[32m[2021-01-25 16:38:24 CET]\u001b[0m\u001b[33m     0B\u001b[0m\u001b[36;1m 6001254.zarr/\u001b[0m\r\n",
      "\u001b[0m\u001b[m\u001b[32m[2021-01-25 16:38:24 CET]\u001b[0m\u001b[33m     0B\u001b[0m\u001b[36;1m 6001255.zarr/\u001b[0m\r\n",
      "\u001b[0m\u001b[m\u001b[32m[2021-01-25 16:38:24 CET]\u001b[0m\u001b[33m     0B\u001b[0m\u001b[36;1m 6001256.zarr/\u001b[0m\r\n",
      "\u001b[0m\u001b[m\u001b[32m[2021-01-25 16:38:24 CET]\u001b[0m\u001b[33m     0B\u001b[0m\u001b[36;1m 6001257.zarr/\u001b[0m\r\n",
      "\u001b[0m\u001b[m\u001b[32m[2021-01-25 16:38:24 CET]\u001b[0m\u001b[33m     0B\u001b[0m\u001b[36;1m 6001258.zarr/\u001b[0m\r\n",
      "\u001b[0m"
     ]
    }
   ],
   "source": [
    "!mc ls gbi/bioim/idr0062-zarrs/"
   ]
  },
  {
   "cell_type": "markdown",
   "metadata": {},
   "source": [
    "## 2.3 Your first download"
   ]
  },
  {
   "cell_type": "markdown",
   "metadata": {},
   "source": [
    "Now you can see list the contents of the bucket and see that it's there. Note that since other people are working on the same bucket, it may look slightly different each time you run this command."
   ]
  },
  {
   "cell_type": "code",
   "execution_count": 10,
   "metadata": {},
   "outputs": [
    {
     "name": "stdout",
     "output_type": "stream",
     "text": [
      "...B1_C1.tif:  67.55 MiB / 67.55 MiB  ▓▓▓▓▓▓▓▓▓▓▓▓▓▓▓▓▓▓▓▓▓▓▓  994.88 KiB/s 1m9s\u001b[0m\u001b[0m\u001b[m\u001b[32;1m\u001b[m\u001b[32;1m\u001b[m\u001b[32;1m\u001b[m\u001b[32;1m\u001b[m\u001b[32;1m\u001b[m\u001b[32;1m\u001b[m\u001b[32;1m\u001b[m\u001b[32;1m\u001b[m\u001b[32;1m\u001b[m\u001b[32;1m\u001b[m\u001b[32;1m\u001b[m\u001b[32;1m\u001b[m\u001b[32;1m\u001b[m\u001b[32;1m\u001b[m\u001b[32;1m\u001b[m\u001b[32;1m\u001b[m\u001b[32;1m\u001b[m\u001b[32;1m\u001b[m\u001b[32;1m\u001b[m\u001b[32;1m\u001b[m\u001b[32;1m\u001b[m\u001b[32;1m\u001b[m\u001b[32;1m\u001b[m\u001b[32;1m\u001b[m\u001b[32;1m\u001b[m\u001b[32;1m\u001b[m\u001b[32;1m\u001b[m\u001b[32;1m\u001b[m\u001b[32;1m\u001b[m\u001b[32;1m\u001b[m\u001b[32;1m\u001b[m\u001b[32;1m\u001b[m\u001b[32;1m\u001b[m\u001b[32;1m\u001b[m\u001b[32;1m\u001b[m\u001b[32;1m\u001b[m\u001b[32;1m\u001b[m\u001b[32;1m\u001b[m\u001b[32;1m\u001b[m\u001b[32;1m\u001b[m\u001b[32;1m\u001b[m\u001b[32;1m\u001b[m\u001b[32;1m\u001b[m\u001b[32;1m\u001b[m\u001b[32;1m\u001b[m\u001b[32;1m\u001b[m\u001b[32;1m\u001b[m\u001b[32;1m\u001b[m\u001b[32;1m\u001b[m\u001b[32;1m\u001b[m\u001b[32;1m\u001b[m\u001b[32;1m\u001b[m\u001b[32;1m\u001b[m\u001b[32;1m\u001b[m\u001b[32;1m\u001b[m\u001b[32;1m\u001b[m\u001b[32;1m\u001b[m\u001b[32;1m\u001b[m\u001b[32;1m\u001b[m\u001b[32;1m\u001b[m\u001b[32;1m\u001b[m\u001b[32;1m\u001b[m\u001b[32;1m\u001b[m\u001b[32;1m\u001b[m\u001b[32;1m\u001b[m\u001b[32;1m\u001b[m\u001b[32;1m\u001b[m\u001b[32;1m\u001b[m\u001b[32;1m\u001b[m\u001b[32;1m\u001b[m\u001b[32;1m\u001b[m\u001b[32;1m\u001b[m\u001b[32;1m\u001b[m\u001b[32;1m\u001b[m\u001b[32;1m\u001b[m\u001b[32;1m\u001b[m\u001b[32;1m\u001b[m\u001b[32;1m\u001b[m\u001b[32;1m\u001b[m\u001b[32;1m\u001b[m\u001b[32;1m\u001b[m\u001b[32;1m\u001b[m\u001b[32;1m\u001b[m\u001b[32;1m\u001b[m\u001b[32;1m\u001b[m\u001b[32;1m\u001b[m\u001b[32;1m\u001b[m\u001b[32;1m\u001b[m\u001b[32;1m\u001b[m\u001b[32;1m\u001b[m\u001b[32;1m\u001b[m\u001b[32;1m\u001b[m\u001b[32;1m\u001b[m\u001b[32;1m\u001b[m\u001b[32;1m\u001b[m\u001b[32;1m\u001b[m\u001b[32;1m\u001b[m\u001b[32;1m\u001b[m\u001b[32;1m\u001b[m\u001b[32;1m\u001b[m\u001b[32;1m\u001b[m\u001b[32;1m\u001b[m\u001b[32;1m\u001b[m\u001b[32;1m\u001b[m\u001b[32;1m\u001b[m\u001b[32;1m\u001b[m\u001b[32;1m\u001b[m\u001b[32;1m\u001b[m\u001b[32;1m\u001b[m\u001b[32;1m\u001b[m\u001b[32;1m\u001b[m\u001b[32;1m\u001b[m\u001b[32;1m\u001b[m\u001b[32;1m\u001b[m\u001b[32;1m\u001b[m\u001b[32;1m\u001b[m\u001b[32;1m\u001b[m\u001b[32;1m\u001b[m\u001b[32;1m\u001b[m\u001b[32;1m\u001b[m\u001b[32;1m\u001b[m\u001b[32;1m\u001b[m\u001b[32;1m\u001b[m\u001b[32;1m\u001b[m\u001b[32;1m\u001b[m\u001b[32;1m\u001b[m\u001b[32;1m\u001b[m\u001b[32;1m\u001b[m\u001b[32;1m\u001b[m\u001b[32;1m\u001b[m\u001b[32;1m\u001b[m\u001b[32;1m\u001b[m\u001b[32;1m\u001b[m\u001b[32;1m\u001b[m\u001b[32;1m\u001b[m\u001b[32;1m\u001b[m\u001b[32;1m\u001b[m\u001b[32;1m\u001b[m\u001b[32;1m\u001b[m\u001b[32;1m\u001b[m\u001b[32;1m\u001b[m\u001b[32;1m\u001b[m\u001b[32;1m\u001b[m\u001b[32;1m\u001b[m\u001b[32;1m\u001b[m\u001b[32;1m\u001b[m\u001b[32;1m\u001b[m\u001b[32;1m\u001b[m\u001b[32;1m\u001b[m\u001b[32;1m\u001b[m\u001b[32;1m\u001b[m\u001b[32;1m\u001b[m\u001b[32;1m\u001b[m\u001b[32;1m\u001b[m\u001b[32;1m\u001b[m\u001b[32;1m\u001b[m\u001b[32;1m\u001b[m\u001b[32;1m\u001b[m\u001b[32;1m\u001b[m\u001b[32;1m\u001b[m\u001b[32;1m\u001b[m\u001b[32;1m\u001b[m\u001b[32;1m\u001b[m\u001b[32;1m\u001b[m\u001b[32;1m\u001b[m\u001b[32;1m\u001b[m\u001b[32;1m\u001b[m\u001b[32;1m\u001b[m\u001b[32;1m\u001b[m\u001b[32;1m\u001b[m\u001b[32;1m\u001b[m\u001b[32;1m\u001b[m\u001b[32;1m\u001b[m\u001b[32;1m\u001b[m\u001b[32;1m\u001b[m\u001b[32;1m\u001b[m\u001b[32;1m\u001b[m\u001b[32;1m\u001b[m\u001b[32;1m\u001b[m\u001b[32;1m\u001b[m\u001b[32;1m\u001b[m\u001b[32;1m\u001b[m\u001b[32;1m\u001b[m\u001b[32;1m\u001b[m\u001b[32;1m\u001b[m\u001b[32;1m\u001b[m\u001b[32;1m\u001b[m\u001b[32;1m\u001b[m\u001b[32;1m\u001b[m\u001b[32;1m\u001b[m\u001b[32;1m\u001b[m\u001b[32;1m\u001b[m\u001b[32;1m\u001b[m\u001b[32;1m\u001b[m\u001b[32;1m\u001b[m\u001b[32;1m\u001b[m\u001b[32;1m\u001b[m\u001b[32;1m\u001b[m\u001b[32;1m\u001b[m\u001b[32;1m\u001b[m\u001b[32;1m\u001b[m\u001b[32;1m\u001b[m\u001b[32;1m\u001b[m\u001b[32;1m\u001b[m\u001b[32;1m\u001b[m\u001b[32;1m\u001b[m\u001b[32;1m\u001b[m\u001b[32;1m\u001b[m\u001b[32;1m\u001b[m\u001b[32;1m\u001b[m\u001b[32;1m\u001b[m\u001b[32;1m\u001b[m\u001b[32;1m\u001b[m\u001b[32;1m\u001b[m\u001b[32;1m\u001b[m\u001b[32;1m\u001b[m\u001b[32;1m\u001b[m\u001b[32;1m\u001b[m\u001b[32;1m\u001b[m\u001b[32;1m\u001b[m\u001b[32;1m\u001b[m\u001b[32;1m\u001b[m\u001b[32;1m\u001b[m\u001b[32;1m\u001b[m\u001b[32;1m\u001b[m\u001b[32;1m\u001b[m\u001b[32;1m\u001b[m\u001b[32;1m\u001b[m\u001b[32;1m\u001b[m\u001b[32;1m\u001b[m\u001b[32;1m\u001b[m\u001b[32;1m\u001b[m\u001b[32;1m\u001b[m\u001b[32;1m\u001b[m\u001b[32;1m\u001b[m\u001b[32;1m\u001b[m\u001b[32;1m\u001b[m\u001b[32;1m\u001b[m\u001b[32;1m\u001b[m\u001b[32;1m\u001b[m\u001b[32;1m\u001b[m\u001b[32;1m\u001b[m\u001b[32;1m\u001b[m\u001b[32;1m\u001b[m\u001b[32;1m\u001b[m\u001b[32;1m\u001b[m\u001b[32;1m\u001b[m\u001b[32;1m\u001b[m\u001b[32;1m\u001b[m\u001b[32;1m\u001b[m\u001b[32;1m\u001b[m\u001b[32;1m\u001b[m\u001b[32;1m\u001b[m\u001b[32;1m\u001b[m\u001b[32;1m\u001b[m\u001b[32;1m\u001b[m\u001b[32;1m\u001b[m\u001b[32;1m\u001b[m\u001b[32;1m\u001b[m\u001b[32;1m\u001b[m\u001b[32;1m\u001b[m\u001b[32;1m\u001b[m\u001b[32;1m\u001b[m\u001b[32;1m\u001b[m\u001b[32;1m\u001b[m\u001b[32;1m\u001b[m\u001b[32;1m\u001b[m\u001b[32;1m\u001b[m\u001b[32;1m\u001b[m\u001b[32;1m\u001b[m\u001b[32;1m\u001b[m\u001b[32;1m\u001b[m\u001b[32;1m\u001b[m\u001b[32;1m\u001b[m\u001b[32;1m\u001b[m\u001b[32;1m\u001b[m\u001b[32;1m\u001b[m\u001b[32;1m\u001b[m\u001b[32;1m\u001b[m\u001b[32;1m\u001b[m\u001b[32;1m\u001b[m\u001b[32;1m\u001b[m\u001b[32;1m\u001b[m\u001b[32;1m\u001b[m\u001b[32;1m\u001b[m\u001b[32;1m\u001b[m\u001b[32;1m\u001b[m\u001b[32;1m\u001b[m\u001b[32;1m\u001b[m\u001b[32;1m\u001b[m\u001b[32;1m\u001b[m\u001b[32;1m\u001b[m\u001b[32;1m\u001b[m\u001b[32;1m\u001b[m\u001b[32;1m\u001b[m\u001b[32;1m\u001b[m\u001b[32;1m\u001b[m\u001b[32;1m\u001b[m\u001b[32;1m\u001b[m\u001b[32;1m\u001b[m\u001b[32;1m\u001b[m\u001b[32;1m\u001b[m\u001b[32;1m\u001b[m\u001b[32;1m\u001b[m\u001b[32;1m\u001b[m\u001b[32;1m\u001b[m\u001b[32;1m\u001b[m\u001b[32;1m\u001b[m\u001b[32;1m\u001b[m\u001b[32;1m\u001b[m\u001b[32;1m\u001b[m\u001b[32;1m\u001b[m\u001b[32;1m\u001b[m\u001b[32;1m\u001b[m\u001b[32;1m\u001b[m\u001b[32;1m\u001b[m\u001b[32;1m\u001b[m\u001b[32;1m\u001b[m\u001b[32;1m\u001b[m\u001b[32;1m\u001b[m\u001b[32;1m\u001b[m\u001b[32;1m\u001b[m\u001b[32;1m\u001b[m\u001b[32;1m\u001b[m\u001b[32;1m\u001b[m\u001b[32;1m\u001b[m\u001b[32;1m\u001b[m\u001b[32;1m\u001b[m\u001b[32;1m\u001b[m\u001b[32;1m\u001b[m\u001b[32;1m\u001b[m\u001b[32;1m\u001b[m\u001b[32;1m\u001b[m\u001b[32;1m\u001b[m\u001b[32;1m\u001b[m\u001b[32;1m\u001b[m\u001b[32;1m\u001b[m\u001b[32;1m\u001b[m\u001b[32;1m\u001b[m\u001b[32;1m\u001b[m\u001b[32;1m\u001b[m\u001b[32;1m\u001b[m\u001b[32;1m\u001b[m\u001b[32;1m\u001b[m\u001b[32;1m\u001b[m\u001b[32;1m\u001b[m\u001b[32;1m\u001b[m\u001b[32;1m\u001b[m\u001b[32;1m\u001b[m\u001b[32;1m\u001b[m\u001b[32;1m\u001b[m\u001b[32;1m\u001b[m\u001b[32;1m\u001b[m\u001b[32;1m\u001b[m\u001b[32;1m\u001b[m\u001b[32;1m\u001b[m\u001b[32;1m\u001b[m\u001b[32;1m\u001b[m\u001b[32;1m\u001b[m\u001b[32;1m\u001b[m\u001b[32;1m\u001b[m\u001b[32;1m\u001b[m\u001b[32;1m\u001b[m\u001b[32;1m\u001b[m\u001b[32;1m\u001b[m\u001b[32;1m\u001b[m\u001b[32;1m\u001b[m\u001b[32;1m\u001b[m\u001b[32;1m\u001b[m\u001b[32;1m\u001b[m\u001b[32;1m\u001b[m\u001b[32;1m\u001b[m\u001b[32;1m\u001b[m\u001b[32;1m\u001b[m\u001b[32;1m\u001b[m\u001b[32;1m\u001b[m\u001b[32;1m\u001b[m\u001b[32;1m\u001b[m\u001b[32;1m\u001b[m\u001b[32;1m\u001b[m\u001b[32;1m\u001b[m\u001b[32;1m\u001b[m\u001b[32;1m\u001b[m\u001b[32;1m\u001b[m\u001b[32;1m\u001b[m\u001b[32;1m\u001b[m\u001b[32;1m\u001b[m\u001b[32;1m\u001b[m\u001b[32;1m\u001b[m\u001b[32;1m\u001b[m\u001b[32;1m\u001b[m\u001b[32;1m\u001b[m\u001b[32;1m\u001b[m\u001b[32;1m\u001b[m\u001b[32;1m\u001b[m\u001b[32;1m\u001b[m\u001b[32;1m\u001b[m\u001b[32;1m\u001b[m\u001b[32;1m\u001b[m\u001b[32;1m\u001b[m\u001b[32;1m\u001b[m\u001b[32;1m\u001b[m\u001b[32;1m\u001b[m\u001b[32;1m\u001b[m\u001b[32;1m\u001b[m\u001b[32;1m\u001b[m\u001b[32;1m\u001b[m\u001b[32;1m\u001b[m\u001b[32;1m\u001b[m\u001b[32;1m\u001b[m\u001b[32;1m\u001b[m\u001b[32;1m\u001b[m\u001b[32;1m\u001b[m\u001b[32;1m\u001b[m\u001b[32;1m\u001b[m\u001b[32;1m\u001b[m\u001b[32;1m\u001b[m\u001b[32;1m\u001b[m\u001b[32;1m\u001b[m\u001b[32;1m\u001b[m\u001b[32;1m\u001b[m\u001b[32;1m\u001b[m\u001b[32;1m\u001b[m\u001b[32;1m\u001b[m\u001b[32;1m\u001b[m\u001b[32;1m\u001b[m\u001b[32;1m\u001b[m\u001b[32;1m\u001b[m\u001b[32;1m\u001b[m\u001b[32;1m\u001b[m\u001b[32;1m\u001b[m\u001b[32;1m\u001b[m\u001b[32;1m\u001b[m\u001b[32;1m\u001b[m\u001b[32;1m\u001b[m\u001b[32;1m\u001b[m\u001b[32;1m\u001b[m\u001b[32;1m\u001b[m\u001b[32;1m\u001b[m\u001b[32;1m\u001b[m\u001b[32;1m\u001b[m\u001b[32;1m\u001b[m\u001b[32;1m\u001b[m\u001b[32;1m\u001b[m\u001b[32;1m\u001b[m\u001b[32;1m\u001b[m\u001b[32;1m\u001b[m\u001b[32;1m\u001b[m\u001b[32;1m\u001b[m\u001b[32;1m\u001b[m\u001b[32;1m\u001b[m\u001b[32;1m\u001b[m\u001b[32;1m\u001b[m\u001b[32;1m\u001b[m\u001b[32;1m\u001b[m\u001b[32;1m\u001b[m\u001b[32;1m\u001b[m\u001b[32;1m\u001b[m\u001b[32;1m\u001b[m\u001b[32;1m\u001b[m\u001b[32;1m\u001b[m\u001b[32;1m\u001b[m\u001b[32;1m\u001b[m\u001b[32;1m\u001b[m\u001b[32;1m\u001b[m\u001b[32;1m\u001b[m\u001b[32;1m\u001b[m\u001b[32;1m\u001b[m\u001b[32;1m\u001b[m\u001b[32;1m\u001b[m\u001b[32;1m\u001b[m\u001b[32;1m\u001b[m\u001b[32;1m\u001b[m\u001b[32;1m\u001b[m\u001b[32;1m\u001b[m\u001b[32;1m\u001b[m\u001b[32;1m\u001b[m\u001b[32;1m\u001b[m\u001b[32;1m\u001b[m\u001b[32;1m\u001b[m\u001b[32;1m\u001b[m\u001b[32;1m\u001b[m\u001b[32;1m\u001b[m\u001b[32;1m\u001b[m\u001b[32;1m\u001b[m\u001b[32;1m\u001b[m\u001b[32;1m\u001b[m\u001b[32;1m\u001b[m\u001b[32;1m\u001b[m\u001b[32;1m\u001b[m\u001b[32;1m\u001b[m\u001b[32;1m\u001b[m\u001b[32;1m\u001b[m\u001b[32;1m\u001b[m\u001b[32;1m\u001b[m\u001b[32;1m\u001b[m\u001b[32;1m\u001b[m\u001b[32;1m\u001b[m\u001b[32;1m\u001b[m\u001b[32;1m\u001b[m\u001b[32;1m\u001b[m\u001b[32;1m\u001b[m\u001b[32;1m\u001b[m\u001b[32;1m\u001b[m\u001b[32;1m\u001b[m\u001b[32;1m\u001b[m\u001b[32;1m\u001b[m\u001b[32;1m\u001b[m\u001b[32;1m\u001b[m\u001b[32;1m\u001b[m\u001b[32;1m\u001b[m\u001b[32;1m\u001b[m\u001b[32;1m\u001b[m\u001b[32;1m\u001b[m\u001b[32;1m\u001b[m\u001b[32;1m\u001b[m\u001b[32;1m\u001b[m\u001b[32;1m\u001b[m\u001b[32;1m\u001b[m\u001b[32;1m\u001b[m\u001b[32;1m\u001b[m\u001b[32;1m\u001b[m\u001b[32;1m\u001b[m\u001b[32;1m\u001b[m\u001b[32;1m\u001b[m\u001b[32;1m\u001b[m\u001b[32;1m\u001b[m\u001b[32;1m\u001b[m\u001b[32;1m\u001b[m\u001b[32;1m\u001b[m\u001b[32;1m\u001b[m\u001b[32;1m\u001b[m\u001b[32;1m\u001b[m\u001b[32;1m\u001b[m\u001b[32;1m\u001b[0m\u001b[m\u001b[32;1m\u001b[m\u001b[32;1m\u001b[m\u001b[32;1m\u001b[m\u001b[32;1m\u001b[m\u001b[32;1m\u001b[m\u001b[32;1m\u001b[m\u001b[32;1m\u001b[m\u001b[32;1m"
     ]
    }
   ],
   "source": [
    "!mc cp gbi/bioim/idr0062-tiffs/B1_C1.tif /tmp/"
   ]
  },
  {
   "cell_type": "code",
   "execution_count": 15,
   "metadata": {
    "scrolled": true
   },
   "outputs": [
    {
     "name": "stdout",
     "output_type": "stream",
     "text": [
      "-rw-r--r--  1 jamoore  wheel    68M Jan 25 16:42 /tmp/B1_C1.tif\r\n"
     ]
    }
   ],
   "source": [
    "!ls -ltrah /tmp/B1_C1.tif"
   ]
  },
  {
   "cell_type": "markdown",
   "metadata": {},
   "source": [
    "# 3 Converting your data to OME-NGFF\n",
    "\n",
    "# 3.1 Conversion tools\n",
    "\n",
    "https://forum.image.sc/t/converting-whole-slide-images-to-ome-tiff-a-new-workflow/32110/4\n",
    "\n",
    "<img src=\"blog-2019-12-converting-whole-slide-images.jpg\" style=\"height:300px\" />\n",
    "\n"
   ]
  },
  {
   "cell_type": "code",
   "execution_count": null,
   "metadata": {},
   "outputs": [],
   "source": [
    "%%time\n",
    "!bioformats2raw --help"
   ]
  },
  {
   "cell_type": "markdown",
   "metadata": {},
   "source": [
    "## Required OME-Zarr options\n",
    "Two of the options are currently necessary to produce OME-Zarr data:\n",
    "```\n",
    "      --file_type=<fileType>\n",
    "                     Tile file extension: n5, zarr (default: n5) [Can break\n",
    "                       compatibility with raw2ometiff]\n",
    "```\n",
    "and\n",
    "```\n",
    "     --dimension-order=<dimensionOrder>\n",
    "                     Override the input file dimension order in the output file\n",
    "                       [Can break compatibility with raw2ometiff] (XYZCT,\n",
    "                       XYZTC, XYCTZ, XYCZT, XYTCZ, XYTZC)\n",
    "```\n",
    "\n",
    "`--file_type` which produces Zarr output rather than N5 as the intermediate format. If we additionally pass the `--dimension-order` argument, then the intermediate result can be used directly by the ome-zarr library."
   ]
  },
  {
   "cell_type": "code",
   "execution_count": null,
   "metadata": {
    "scrolled": true
   },
   "outputs": [],
   "source": [
    "%%time\n",
    "!bioformats2raw i2k2020.gif $PWD --file_type=zarr --dimension-order=XYZCT --scale-format-string=gif.zarr/%d"
   ]
  },
  {
   "cell_type": "code",
   "execution_count": null,
   "metadata": {
    "scrolled": true
   },
   "outputs": [],
   "source": [
    "!ls *.ome.xml data.zarr"
   ]
  },
  {
   "cell_type": "markdown",
   "metadata": {},
   "source": [
    "## 4. Publishing your data with S3\n",
    "\n",
    "You can then move the generated output to S3"
   ]
  },
  {
   "cell_type": "code",
   "execution_count": null,
   "metadata": {
    "scrolled": true
   },
   "outputs": [],
   "source": [
    "!mc cp --recursive data.zarr/gif.zarr/ play/i2k2020/gif.zarr/"
   ]
  },
  {
   "cell_type": "markdown",
   "metadata": {},
   "source": [
    "You can see your image under http://hms-dbmi.github.io/vizarr?source=https://play.minio.io:9000/i2k2020/gif.zarr"
   ]
  },
  {
   "cell_type": "code",
   "execution_count": null,
   "metadata": {},
   "outputs": [],
   "source": [
    "!mc cat play/i2k2020/gif.zarr/.zattrs"
   ]
  },
  {
   "cell_type": "markdown",
   "metadata": {},
   "source": [
    "Now visit https://play.minio.io:9000/i2k2020/hello.txt to see what you uploaded with the key of `hello.txt`. It's no longer a file. It's now in **object storage**."
   ]
  },
  {
   "cell_type": "markdown",
   "metadata": {},
   "source": [
    "## Content type (i.e. metadata)"
   ]
  },
  {
   "cell_type": "markdown",
   "metadata": {},
   "source": [
    "We can also upload HTML:"
   ]
  },
  {
   "cell_type": "code",
   "execution_count": null,
   "metadata": {
    "scrolled": true
   },
   "outputs": [],
   "source": [
    "!mc cp hello.html play/i2k2020/hello.html"
   ]
  },
  {
   "cell_type": "markdown",
   "metadata": {},
   "source": [
    "which will render under https://play.minio.io:9000/i2k2020/hello.html However, if the name doesn't match the contents, the file will be downloaded rather than opened:"
   ]
  },
  {
   "cell_type": "code",
   "execution_count": null,
   "metadata": {
    "scrolled": true
   },
   "outputs": [],
   "source": [
    "!mc cp hello.json play/i2k2020/hello.data"
   ]
  },
  {
   "cell_type": "markdown",
   "metadata": {},
   "source": [
    "it may be downloaded: https://play.minio.io:9000/i2k2020/hello.data rather than shown. To fix that, you can add a content type:"
   ]
  },
  {
   "cell_type": "code",
   "execution_count": null,
   "metadata": {
    "scrolled": true
   },
   "outputs": [],
   "source": [
    "!mc cp --attr=Content-Type=text/plain hello.txt play/i2k2020/hello.txt"
   ]
  },
  {
   "cell_type": "markdown",
   "metadata": {},
   "source": [
    "## Naming (i.e. keys)\n",
    "\n",
    "Another important distinction to filesystems is that though it looks like hello is in a directory, you should really think of the entire string after the bucket just as a \"key\"."
   ]
  },
  {
   "cell_type": "code",
   "execution_count": null,
   "metadata": {
    "scrolled": true
   },
   "outputs": [],
   "source": [
    "!mc rm play/i2k2020/hello.txt"
   ]
  },
  {
   "cell_type": "code",
   "execution_count": null,
   "metadata": {},
   "outputs": [],
   "source": [
    "!mc cp hello.txt play/i2k2020/josh.txt"
   ]
  },
  {
   "cell_type": "markdown",
   "metadata": {},
   "source": [
    "![object storage comparison](https://mk0openioo80ctbhsnje.kinstacdn.com/wp-content/uploads/2019/09/oio-block-files-object-storage-compared.png)\n",
    "\n",
    "*from https://www.openio.io/blog/block-file-object-storage-evolution-computer-storage-systems*"
   ]
  },
  {
   "cell_type": "markdown",
   "metadata": {},
   "source": [
    "The two basic commands are `bioformats2raw` and `raw2ometiff`. Together they provide a pipeline to scalably convert large images into OME-TIFF. The primary caveat is that they require **twice** the storage for the conversion."
   ]
  },
  {
   "cell_type": "markdown",
   "metadata": {
    "collapsed": true
   },
   "source": [
    "### License\n",
    "Copyright (C) 2019-2020 University of Dundee. All Rights Reserved.\n",
    "This program is free software; you can redistribute it and/or modify it\n",
    "under the terms of the GNU General Public License as published by the\n",
    "Free Software Foundation; either version 2 of the License, or\n",
    "(at your option) any later version.\n",
    "This program is distributed in the hope that it will be useful, but\n",
    "WITHOUT ANY WARRANTY; without even the implied warranty of MERCHANTABILITY\n",
    "or FITNESS FOR A PARTICULAR PURPOSE. See the GNU General Public License for\n",
    "more details. You should have received a copy of the GNU General\n",
    "Public License along with this program; if not, write to the\n",
    "Free Software Foundation,\n",
    "Inc., 51 Franklin Street, Fifth Floor, Boston, MA 02110-1301 USA."
   ]
  },
  {
   "cell_type": "markdown",
   "metadata": {},
   "source": [
    "# ITEMS TO PROCESS:\n",
    "\n",
    "* https://en.wikipedia.org/wiki/Comparison_of_web_browsers#Image_format_support"
   ]
  },
  {
   "cell_type": "code",
   "execution_count": null,
   "metadata": {},
   "outputs": [],
   "source": [
    "! pip install omero-cli-zarr"
   ]
  },
  {
   "cell_type": "code",
   "execution_count": null,
   "metadata": {},
   "outputs": [],
   "source": []
  },
  {
   "cell_type": "code",
   "execution_count": null,
   "metadata": {},
   "outputs": [],
   "source": [
    "omero zarr export Image:6001240"
   ]
  }
 ],
 "metadata": {
  "anaconda-cloud": {},
  "kernelspec": {
   "display_name": "Python 3",
   "language": "python",
   "name": "python3"
  },
  "language_info": {
   "codemirror_mode": {
    "name": "ipython",
    "version": 3
   },
   "file_extension": ".py",
   "mimetype": "text/x-python",
   "name": "python",
   "nbconvert_exporter": "python",
   "pygments_lexer": "ipython3",
   "version": "3.9.0"
  },
  "toc": {
   "base_numbering": 1,
   "nav_menu": {},
   "number_sections": false,
   "sideBar": false,
   "skip_h1_title": false,
   "title_cell": "Table of Contents",
   "title_sidebar": "Contents",
   "toc_cell": false,
   "toc_position": {},
   "toc_section_display": false,
   "toc_window_display": false
  }
 },
 "nbformat": 4,
 "nbformat_minor": 4
}
